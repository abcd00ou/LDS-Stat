{
 "cells": [
  {
   "cell_type": "code",
   "execution_count": 1,
   "metadata": {},
   "outputs": [
    {
     "data": {
      "text/plain": [
       "Div([H1('First Dash App'), Div([P('Dash converts Python classes into HTML'), P(\"This conversion happens behind the scenes by Dash's JavaScript front-end\")])])"
      ]
     },
     "execution_count": 1,
     "metadata": {},
     "output_type": "execute_result"
    }
   ],
   "source": [
    "import dash_html_components as html\n",
    "# Dash html code in python\n",
    "html.Div([\n",
    "    html.H1('First Dash App'),\n",
    "    html.Div([\n",
    "        html.P(\"Dash converts Python classes into HTML\"),\n",
    "        html.P(\"This conversion happens behind the scenes by Dash's JavaScript front-end\")\n",
    "    ])\n",
    "])\n",
    " # Above python code get converted to html code as below\n"
   ]
  },
  {
   "cell_type": "code",
   "execution_count": 2,
   "metadata": {},
   "outputs": [],
   "source": [
    "import dash\n",
    "from jupyter_plotly_dash import JupyterDash\n",
    "external_stylesheets = ['https://codepen.io/chriddyp/pen/bWLwgP.css']\n",
    "app = JupyterDash('simpleExample')\n"
   ]
  },
  {
   "cell_type": "code",
   "execution_count": 3,
   "metadata": {},
   "outputs": [
    {
     "data": {
      "text/html": [
       "<div>\n",
       "  <iframe src=\"/app/endpoints/0e05a183ae4f4733afa1f5b1eb86f827/\" width=800 height=600 frameborder=\"0\"></iframe>\n",
       "  <hr/><a href=\"/app/endpoints/0e05a183ae4f4733afa1f5b1eb86f827/\" target=\"_new\">Open in new window</a> for /app/endpoints/0e05a183ae4f4733afa1f5b1eb86f827/\n",
       "</div>"
      ],
      "text/plain": [
       "<jupyter_plotly_dash.dash_wrapper.JupyterDash at 0x206a04d3828>"
      ]
     },
     "execution_count": 3,
     "metadata": {},
     "output_type": "execute_result"
    }
   ],
   "source": [
    "import dash_html_components as html\n",
    "import dash_core_components as dcc\n",
    "import dash_html_components as html\n",
    "import dash_core_components as dcc\n",
    "from dash.dependencies import Input, Output\n",
    "from datetime import datetime\n",
    "import pandas as pd\n",
    "from PriceIndices import MarketHistory, Indices\n",
    "\n",
    "app.layout = html.Div([html.H1('Dash Demo Graph',\n",
    "                               style={\n",
    "                                      'textAlign': 'center',\n",
    "                                      \"background\": \"yellow\"}),\n",
    "                       dcc.Graph(\n",
    "                           id='graph-1',\n",
    "                           figure={\n",
    "                               'data': [\n",
    "                                   {'x': [1, 2, 3, 4, 5, 6, 7], 'y': [10, 20, 30, 40, 50, 60, 70], 'type': 'line', 'name': 'value1'},\n",
    "                                   {'x': [1, 2, 3, 4, 5, 6, 7], 'y': [12, 22, 36, 44, 49, 58, 73], 'type': 'line', 'name': 'value2'}\n",
    "                               ],\n",
    "                               'layout': {\n",
    "                                   'title': 'Simple Line Graph',\n",
    "                                     }\n",
    "                                 }\n",
    "                            ),\n",
    "\n",
    "                            ], style={\n",
    "                                \"background\": \"#000080\"}\n",
    "                         )\n",
    "\n",
    "app"
   ]
  },
  {
   "cell_type": "code",
   "execution_count": 4,
   "metadata": {},
   "outputs": [
    {
     "ename": "NameError",
     "evalue": "name 'get_data_table' is not defined",
     "output_type": "error",
     "traceback": [
      "\u001b[1;31m---------------------------------------------------------------------------\u001b[0m",
      "\u001b[1;31mNameError\u001b[0m                                 Traceback (most recent call last)",
      "\u001b[1;32m<ipython-input-4-e3e803c5fad0>\u001b[0m in \u001b[0;36m<module>\u001b[1;34m\u001b[0m\n\u001b[0;32m     16\u001b[0m                                                               \u001b[1;34m'textAlign'\u001b[0m\u001b[1;33m:\u001b[0m \u001b[1;34m'center'\u001b[0m\u001b[1;33m,\u001b[0m\u001b[1;33m\u001b[0m\u001b[1;33m\u001b[0m\u001b[0m\n\u001b[0;32m     17\u001b[0m                                                               \"background\": \"yellow\"}),\n\u001b[1;32m---> 18\u001b[1;33m                                                     get_data_table()]),\n\u001b[0m\u001b[0;32m     19\u001b[0m \u001b[1;33m\u001b[0m\u001b[0m\n\u001b[0;32m     20\u001b[0m            html.Div(['Date selector for graphs.', # add DateRangePicker here\n",
      "\u001b[1;31mNameError\u001b[0m: name 'get_data_table' is not defined"
     ]
    }
   ],
   "source": [
    "history = MarketHistory()\n",
    "df = history.get_price('bitcoin', '20130428', '20200510')  # Get Bitcoin price data\n",
    "df['date'] = pd.to_datetime(df['date'])\n",
    "colors = {\n",
    "    'background': '#111111',\n",
    "    'background2': '#FF0',\n",
    "    'text': 'yellow'\n",
    "    }\n",
    "\n",
    "app.layout = html.Div([html.H1('Bitcoin Price Graph',\n",
    "                               style={\n",
    "                                      'textAlign': 'center',\n",
    "                                      \"background\": \"yellow\"}),\n",
    "            html.Div(children=[html.H1(children=\"Data Table\", # html for table\n",
    "                                                          style={\n",
    "                                                              'textAlign': 'center',\n",
    "                                                              \"background\": \"yellow\"}),\n",
    "                                                    get_data_table()]),\n",
    "                       \n",
    "           html.Div(['Date selector for graphs.', # add DateRangePicker here\n",
    "                   dcc.DatePickerRange(\n",
    "                       id='date-input',\n",
    "                       stay_open_on_select=False,\n",
    "                       min_date_allowed=datetime(2013, 4, 28),\n",
    "                       max_date_allowed=datetime.now(),\n",
    "                       initial_visible_month=datetime.now(),\n",
    "                       start_date=datetime(2019, 1, 1),\n",
    "                       end_date=datetime.now(),\n",
    "                       number_of_months_shown=2,\n",
    "                       month_format='MMMM,YYYY',\n",
    "                       display_format='YYYY-MM-DD',\n",
    "                       style={\n",
    "                              'color': '#11ff3b',\n",
    "                              'font-size': '18px'\n",
    "                       }\n",
    "       ),\n",
    "       html.Div(id='date-output')\n",
    "                       ], className=\"row \",\n",
    "            style={'marginTop': 0, 'marginBottom': 0, 'font-size': 30, 'color': 'white'}),\n",
    "                       html.Div(id='graph-output'),\n",
    "                       \n",
    "               \n",
    "\n",
    "\n",
    "                      ], style={\n",
    "                                \"background\": \"#000080\"}\n",
    "                    )\n",
    "\n",
    "\n",
    "@app.callback(Output('graph-output', 'children'),\n",
    "              [Input('date-input', 'start_date'), # Add start date \n",
    "               Input('date-input', 'end_date')]) # Add end date\n",
    "def render_graph(start_date, end_date):\n",
    "    data = df[(df.date >= start_date) & (df.date <= end_date)]\n",
    "    return dcc.Graph(\n",
    "        id='graph-1',\n",
    "        figure={\n",
    "            'data': [\n",
    "                {'x': data['date'], 'y': data['price'], 'type': 'line', 'name': 'value1'},\n",
    "            ],\n",
    "            'layout': {\n",
    "                'title': 'Simple Line Graph',\n",
    "                'plot_bgcolor': colors['background'],\n",
    "                'paper_bgcolor': colors['background'],\n",
    "                'font': {\n",
    "                    'color': colors['text'],\n",
    "                    'size': 18\n",
    "                },\n",
    "                'xaxis': {\n",
    "                        'title': 'Price',\n",
    "                        'showspikes': True,\n",
    "                        'spikedash': 'dot',\n",
    "                        'spikemode': 'across',\n",
    "                        'spikesnap': 'cursor',\n",
    "                        },\n",
    "                'yaxis': {\n",
    "                        'title': 'Time',\n",
    "                        'showspikes': True,\n",
    "                        'spikedash': 'dot',\n",
    "                        'spikemode': 'across',\n",
    "                        'spikesnap': 'cursor'\n",
    "                        },\n",
    "\n",
    "            }\n",
    "        }\n",
    "    )\n"
   ]
  },
  {
   "cell_type": "code",
   "execution_count": 31,
   "metadata": {},
   "outputs": [
    {
     "data": {
      "text/html": [
       "<div>\n",
       "  <iframe src=\"/app/endpoints/0d3c7d6870ee4c648ccd9377763a4a3d/\" width=800 height=600 frameborder=\"0\"></iframe>\n",
       "  <hr/><a href=\"/app/endpoints/0d3c7d6870ee4c648ccd9377763a4a3d/\" target=\"_new\">Open in new window</a> for /app/endpoints/0d3c7d6870ee4c648ccd9377763a4a3d/\n",
       "</div>"
      ],
      "text/plain": [
       "<jupyter_plotly_dash.dash_wrapper.JupyterDash at 0x20f879b13c8>"
      ]
     },
     "execution_count": 31,
     "metadata": {},
     "output_type": "execute_result"
    }
   ],
   "source": [
    "app"
   ]
  },
  {
   "cell_type": "code",
   "execution_count": 5,
   "metadata": {},
   "outputs": [],
   "source": [
    "gfam = ['Dram', 'Nand']\n",
    "ddr = ['DDR3','DDR4','DDR5']\n",
    "GC2= ['ASUS','APPLE','Hp']\n",
    "coin_list = ['bitcoin', 'ethereum', 'ripple', 'bitcoin-cash']"
   ]
  },
  {
   "cell_type": "code",
   "execution_count": 6,
   "metadata": {},
   "outputs": [],
   "source": [
    "\n",
    "app.layout = html.Div([html.H1('Crypto Price Graph',\n",
    "                               style={\n",
    "                                      'textAlign': 'center',\n",
    "                                      \"background\": \"yellow\"}),\n",
    "               html.Div(['Date selector for graphs',\n",
    "               dcc.DatePickerRange(\n",
    "                   id='date-input',\n",
    "                   stay_open_on_select=False,\n",
    "                   min_date_allowed=datetime(2013, 4, 28),\n",
    "                   max_date_allowed=datetime.now(),\n",
    "                   initial_visible_month=datetime.now(),\n",
    "                   start_date=datetime(2019, 1, 1),\n",
    "                   end_date=datetime.now(),\n",
    "                   number_of_months_shown=2,\n",
    "                   month_format='MMMM,YYYY',\n",
    "                   display_format='YYYY-MM-DD',\n",
    "                   style={\n",
    "                          'color': '#11ff3b',\n",
    "                          'font-size': '18px',\n",
    "                          'margin': 0,\n",
    "                          'padding': '8px',\n",
    "                          'background': 'yellow',\n",
    "                   }\n",
    "               ),\n",
    "               \n",
    "               dcc.Dropdown(id='dropdown',\n",
    "                            #options=[{'label': i, 'value': i} for i in gfam,\n",
    "                            #        {'label': i , 'value':i} for i in ddr,\n",
    "                            #        {'label': i , 'value':i} for i in GC2}]\n",
    "                            options=[{'label': i, 'value': i} for i in coin_list],\n",
    "\n",
    "                            value='bitcoin',\n",
    "                            optionHeight=10,\n",
    "                            style={\n",
    "                                'height': '50px',\n",
    "                                'font-weight': 100,\n",
    "                                'font-size': '16px',\n",
    "                                'line-height': '10px',\n",
    "                                'color': 'gray',\n",
    "                                'margin': 0,\n",
    "                                'padding': '8px',\n",
    "                                'background': 'yellow',\n",
    "                                'position': 'middle',\n",
    "                                'display': 'inline-block',\n",
    "                                'width': '150px',\n",
    "                                'vertical-align': 'middle',\n",
    "                                }\n",
    "                            ),\n",
    "                html.Div(id='date-output'),\n",
    "                html.Div(id='intermediate-value', style={'display': 'none'}),\n",
    "                               ], className=\"row \",\n",
    "                    style={'marginTop': 0, 'marginBottom': 0, 'font-size': 30, 'color': 'white',\n",
    "                           'display': 'inline-block'}),\n",
    "                 html.Div(children=[html.H1(children=\"Data Table\",\n",
    "                                          style={\n",
    "                                              'textAlign': 'center',\n",
    "                                              \"background\": \"yellow\"})\n",
    "                                  ]\n",
    "                        ),\n",
    "               html.Div(children=[html.Table(id='table'), html.Div(id='table-output')]),\n",
    "               \n",
    "               html.Div(id='graph-output'),\n",
    "                \n",
    "                              ],\n",
    "              style={\"background\": \"#000080\"}\n",
    "                            )\n",
    "\n",
    "\n",
    "@app.callback(Output('table-output', 'children'),\n",
    "              [Input('dropdown', 'value')])\n",
    "def get_data_table(option):\n",
    "    data_table = dash_table.DataTable(\n",
    "        id='datatable-data',\n",
    "        data=df.to_dict('records'),\n",
    "        columns=[{'id': c, 'name': c} for c in df.columns],\n",
    "        style_table={'overflowY': 'scroll'},\n",
    "         fixed_rows={'headers': True, 'data': 10},\n",
    "         style_cell={'width': '100px'},\n",
    "         style_header={\n",
    "            'backgroundColor': 'rgb(230, 230, 230)',\n",
    "            'fontWeight': 'bold'\n",
    "        }\n",
    "    )\n",
    "    return data_table\n",
    "\n",
    "\n",
    "@app.callback(Output('graph-output', 'children'),\n",
    "              [Input('date-input', 'start_date'),\n",
    "               Input('date-input', 'end_date'),\n",
    "               Input('dropdown', 'value')])\n",
    "def render_graph(start_date, end_date, option):\n",
    "    df = history.get_price(option, '20130428', '20200510')  # Get Bitcoin price data\n",
    "    df['date'] = pd.to_datetime(df['date'])\n",
    "    data = df[(df.date >= start_date) & (df.date <= end_date)]\n",
    "    return dcc.Graph(\n",
    "        id='graph-1',\n",
    "        figure={\n",
    "            'data': [\n",
    "                {'x': data['date'], 'y': data['price'], 'type': 'line', 'name': 'value1'},\n",
    "            ],\n",
    "            'layout': {\n",
    "                'title': f'{option.capitalize()} Price Vs Time ',\n",
    "                'plot_bgcolor': colors['background'],\n",
    "                'paper_bgcolor': colors['background'],\n",
    "                'font': {\n",
    "                    'color': colors['text'],\n",
    "                    'size': 18\n",
    "                },\n",
    "                'xaxis': {\n",
    "                        'title': 'Time',\n",
    "                        'showspikes': True,\n",
    "                        'spikedash': 'dot',\n",
    "                        'spikemode': 'across',\n",
    "                        'spikesnap': 'cursor',\n",
    "                        },\n",
    "                'yaxis': {\n",
    "                        'title': 'Price',\n",
    "                        'showspikes': True,\n",
    "                        'spikedash': 'dot',\n",
    "                        'spikemode': 'across',\n",
    "                        'spikesnap': 'cursor'\n",
    "                        },\n",
    "\n",
    "            }\n",
    "        }\n",
    "    )\n",
    "\n"
   ]
  },
  {
   "cell_type": "code",
   "execution_count": 7,
   "metadata": {},
   "outputs": [
    {
     "data": {
      "text/html": [
       "<div>\n",
       "  <iframe src=\"/app/endpoints/0e05a183ae4f4733afa1f5b1eb86f827/\" width=800 height=600 frameborder=\"0\"></iframe>\n",
       "  <hr/><a href=\"/app/endpoints/0e05a183ae4f4733afa1f5b1eb86f827/\" target=\"_new\">Open in new window</a> for /app/endpoints/0e05a183ae4f4733afa1f5b1eb86f827/\n",
       "</div>"
      ],
      "text/plain": [
       "<jupyter_plotly_dash.dash_wrapper.JupyterDash at 0x206a04d3828>"
      ]
     },
     "execution_count": 7,
     "metadata": {},
     "output_type": "execute_result"
    }
   ],
   "source": [
    "app"
   ]
  },
  {
   "cell_type": "code",
   "execution_count": null,
   "metadata": {},
   "outputs": [],
   "source": []
  }
 ],
 "metadata": {
  "kernelspec": {
   "display_name": "Python 3",
   "language": "python",
   "name": "python3"
  },
  "language_info": {
   "codemirror_mode": {
    "name": "ipython",
    "version": 3
   },
   "file_extension": ".py",
   "mimetype": "text/x-python",
   "name": "python",
   "nbconvert_exporter": "python",
   "pygments_lexer": "ipython3",
   "version": "3.7.1"
  }
 },
 "nbformat": 4,
 "nbformat_minor": 2
}
